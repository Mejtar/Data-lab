{
 "cells": [
  {
   "cell_type": "markdown",
   "metadata": {},
   "source": [
    "<h1>Bacteriofago vs Bacterias</h1>\n",
    "<p>En este modelo, busco replicar los pasos de ataque de un bacteriofago a una bacteria, para poder completar este proceso, debo definir que es un bacteriofago y una bacteria, se entiende como bacteriofago a un virus que ataca una bacteria, se debe definir en codigo legible que es cada uno.</p>\n",
    "<p>Ciclo Lítico (Paso a Paso)\n",
    "Adhesión (Unión del fago a la bacteria)\n",
    "\n",
    "El bacteriófago encuentra una bacteria específica (su huésped).\n",
    "Las fibras de su cola se adhieren a receptores específicos en la pared de la bacteria.\n",
    "Esta unión es muy precisa; los fagos solo infectan bacterias con receptores compatibles.\n",
    "Penetración (Inyección del ADN/RNA viral)\n",
    "\n",
    "El fago usa su cola para perforar la pared celular de la bacteria.\n",
    "Inyecta su material genético (ADN o ARN) en el citoplasma de la bacteria.\n",
    "La cápside del virus (su \"cabeza\") queda fuera, como un cascarón vacío.\n",
    "Control de la maquinaria bacteriana\n",
    "\n",
    "El material genético del fago \"toma el control\" de la maquinaria de la bacteria.\n",
    "La bacteria detiene sus funciones normales y empieza a producir proteínas y enzimas que necesita el fago para replicarse.\n",
    "Replicación del ADN/RNA del fago\n",
    "\n",
    "La bacteria copia múltiples veces el ADN/RNA viral.\n",
    "Estas copias se usan para producir nuevas proteínas virales (cápsides, colas, fibras, etc.).\n",
    "Ensamblaje de nuevos fagos\n",
    "\n",
    "Las partes del virus recién fabricadas se ensamblan automáticamente dentro de la bacteria.\n",
    "Decenas o incluso cientos de nuevos bacteriófagos quedan listos.\n",
    "Lisis (ruptura de la bacteria)\n",
    "\n",
    "El fago produce enzimas (como lisozimas) que debilitan y rompen la pared celular de la bacteria.\n",
    "La bacteria explota (lisis), liberando los nuevos fagos al ambiente.\n",
    "Estos fagos buscan nuevas bacterias para infectar, reiniciando el ciclo.\n",
    "Ciclo Lisogénico (Paso a Paso)\n",
    "En lugar de destruir inmediatamente la bacteria, algunos fagos entran en un \"modo sigiloso\":\n",
    "\n",
    "Adhesión y Penetración\n",
    "\n",
    "Igual que en el ciclo lítico: el fago se adhiere y luego inyecta su ADN/RNA en la bacteria.\n",
    "Integración del ADN viral\n",
    "\n",
    "El ADN del fago se integra en el genoma bacteriano.\n",
    "Este ADN viral \"dormido\" se llama profago.\n",
    "La bacteria sigue viviendo y dividiéndose como de costumbre, copiando el ADN del fago junto con su propio ADN.\n",
    "Latencia (Espera del profago)\n",
    "\n",
    "El profago puede permanecer inactivo durante mucho tiempo, sin causar daño a la bacteria.\n",
    "Esto permite que el fago se propague a través de las divisiones bacterianas sin gastar energía en replicarse activamente.\n",
    "Activación (Reentrada al ciclo lítico)\n",
    "\n",
    "Bajo ciertas condiciones (estrés bacteriano, radiación UV, etc.), el profago se \"reactiva\".\n",
    "Se separa del ADN bacteriano y comienza el ciclo lítico, destruyendo la bacteria y liberando nuevos fagos.\n",
    "Resumen: Diferencias entre los ciclos\n",
    "Ciclo Lítico\tCiclo Lisogénico\n",
    "Destruye la bacteria rápidamente.\tPermanece \"dormido\" en la bacteria.\n",
    "Produce muchos fagos rápidamente.\tSe propaga silenciosamente durante generaciones.\n",
    "Usa enzimas para romper la pared celular.\tADN viral integrado al genoma bacteriano.</p>"
   ]
  },
  {
   "cell_type": "code",
   "execution_count": 164,
   "metadata": {},
   "outputs": [],
   "source": [
    "import herramientas\n",
    "import json\n",
    "\n",
    "class Materia:\n",
    "    def __init__(self):\n",
    "        self.t0 = 8.97\n",
    "        self.t1 = 7.68\n",
    "\n",
    "    def celula_animal(cantidad):\n",
    "        t0 = 8.97\n",
    "        t1 = 7.68\n",
    "        energia = (t0 + t1) * 3\n",
    "        return energia\n",
    "\n",
    "class Bacteria:\n",
    "    def __init__(self):\n",
    "        pass\n",
    "        \n",
    "        \n",
    "    def comer(self,comida, mostrar_cantidad=False):\n",
    "        estomago = {}\n",
    "        if comida >= 0:\n",
    "            energia = comida * 1.1\n",
    "            estomago[\"stock_energia\"] = energia // 1\n",
    "            herramientas.guardar_diccionario(estomago, \"estomago_bacteria\")\n",
    "            \n",
    "        else:\n",
    "            energia = 0\n",
    "            print(\"No se encontro energia.\")\n",
    "        return energia\n",
    "    def produccion(self):\n",
    "        \"\"\"\n",
    "        Simula el proceso de adquisicion de componentes\n",
    "        \"\"\"\n",
    "        estomago = herramientas.mostrar_diccionario(\"estomago_bacteria.json\")\n",
    "        energia = next(iter(estomago.values()))\n",
    "\n",
    "        dict_componentes = {}\n",
    "        if energia >= 0:\n",
    "            dict_componentes[\"Enzima\"] = energia * 2\n",
    "            dict_componentes[\"Estructura_celular\"] = energia / 2\n",
    "            herramientas.guardar_diccionario(dict_componentes, \"estomago_bacteria.json\", info=True)\n",
    "        else:\n",
    "            None\n",
    "        return dict_componentes\n",
    "\n",
    "    \n",
    "\n",
    "\n",
    "    def pared(externa, interna, nucleo=False):\n",
    "        gram_positiva = 2.0\n",
    "        gram_negativa = 1.2\n",
    "\n",
    "    def movimiento(self, transporte_activo, transporte_pasivo, energia):\n",
    "        pass\n"
   ]
  },
  {
   "cell_type": "code",
   "execution_count": 165,
   "metadata": {},
   "outputs": [
    {
     "name": "stdout",
     "output_type": "stream",
     "text": [
      "54.945\n",
      "{'Enzima': 108.0, 'Estructura_celular': 27.0}\n"
     ]
    }
   ],
   "source": [
    "materia_1 = Materia.celula_animal(15)\n",
    "\n",
    "bacteria_1 = Bacteria()\n",
    "print(bacteria_1.comer(materia_1))\n",
    "print(bacteria_1.produccion())\n"
   ]
  },
  {
   "cell_type": "code",
   "execution_count": 169,
   "metadata": {},
   "outputs": [
    {
     "data": {
      "text/plain": [
       "'estomago_bacteria.json'"
      ]
     },
     "execution_count": 169,
     "metadata": {},
     "output_type": "execute_result"
    }
   ],
   "source": []
  }
 ],
 "metadata": {
  "kernelspec": {
   "display_name": "Python 3",
   "language": "python",
   "name": "python3"
  },
  "language_info": {
   "codemirror_mode": {
    "name": "ipython",
    "version": 3
   },
   "file_extension": ".py",
   "mimetype": "text/x-python",
   "name": "python",
   "nbconvert_exporter": "python",
   "pygments_lexer": "ipython3",
   "version": "3.11.9"
  }
 },
 "nbformat": 4,
 "nbformat_minor": 2
}
